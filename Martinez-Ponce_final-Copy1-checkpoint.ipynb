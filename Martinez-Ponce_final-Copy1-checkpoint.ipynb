{
 "cells": [
  {
   "cell_type": "code",
   "execution_count": 121,
   "metadata": {},
   "outputs": [],
   "source": [
    "import requests\n",
    "import yfinance as yf\n",
    "import pandas as pd\n",
    "from bs4 import BeautifulSoup\n",
    "import matplotlib.pyplot as plt\n",
    "from bs4 import BeautifulSoup\n",
    "import re\n",
    "import seaborn as sns\n",
    "from selenium import webdriver\n",
    "import chromedriver_binary\n",
    "import string\n",
    "from pytrends.request import TrendReq\n",
    "pytrend = TrendReq()\n",
    "pd.options.display.float_format = '{:.0f}'.format"
   ]
  },
  {
   "cell_type": "code",
   "execution_count": 30,
   "metadata": {},
   "outputs": [
    {
     "data": {
      "text/html": [
       "<div>\n",
       "<style scoped>\n",
       "    .dataframe tbody tr th:only-of-type {\n",
       "        vertical-align: middle;\n",
       "    }\n",
       "\n",
       "    .dataframe tbody tr th {\n",
       "        vertical-align: top;\n",
       "    }\n",
       "\n",
       "    .dataframe thead tr th {\n",
       "        text-align: left;\n",
       "    }\n",
       "</style>\n",
       "<table border=\"1\" class=\"dataframe\">\n",
       "  <thead>\n",
       "    <tr>\n",
       "      <th></th>\n",
       "      <th>CountryRank ▾</th>\n",
       "      <th>Company</th>\n",
       "      <th>Global500rank</th>\n",
       "      <th>City</th>\n",
       "      <th>Revenues($ millions)</th>\n",
       "    </tr>\n",
       "    <tr>\n",
       "      <th></th>\n",
       "      <th>Country</th>\n",
       "      <th># of GLOBAL500 Companies</th>\n",
       "      <th>Unnamed: 2_level_1</th>\n",
       "      <th>Unnamed: 3_level_1</th>\n",
       "      <th>Unnamed: 4_level_1</th>\n",
       "    </tr>\n",
       "  </thead>\n",
       "  <tbody>\n",
       "    <tr>\n",
       "      <th>0</th>\n",
       "      <td>1</td>\n",
       "      <td>Exxon Mobil</td>\n",
       "      <td>2.0</td>\n",
       "      <td>Irving</td>\n",
       "      <td>452926.0</td>\n",
       "    </tr>\n",
       "    <tr>\n",
       "      <th>1</th>\n",
       "      <td>2</td>\n",
       "      <td>Wal-Mart Stores</td>\n",
       "      <td>3.0</td>\n",
       "      <td>Bentonville</td>\n",
       "      <td>446950.0</td>\n",
       "    </tr>\n",
       "    <tr>\n",
       "      <th>2</th>\n",
       "      <td>3</td>\n",
       "      <td>Chevron</td>\n",
       "      <td>8.0</td>\n",
       "      <td>San Ramon</td>\n",
       "      <td>245621.0</td>\n",
       "    </tr>\n",
       "    <tr>\n",
       "      <th>3</th>\n",
       "      <td>4</td>\n",
       "      <td>ConocoPhillips</td>\n",
       "      <td>9.0</td>\n",
       "      <td>Houston</td>\n",
       "      <td>237272.0</td>\n",
       "    </tr>\n",
       "    <tr>\n",
       "      <th>4</th>\n",
       "      <td>5</td>\n",
       "      <td>General Motors</td>\n",
       "      <td>19.0</td>\n",
       "      <td>Detroit</td>\n",
       "      <td>150276.0</td>\n",
       "    </tr>\n",
       "  </tbody>\n",
       "</table>\n",
       "</div>"
      ],
      "text/plain": [
       "  CountryRank ▾                  Company      Global500rank  \\\n",
       "        Country # of GLOBAL500 Companies Unnamed: 2_level_1   \n",
       "0             1              Exxon Mobil                2.0   \n",
       "1             2          Wal-Mart Stores                3.0   \n",
       "2             3                  Chevron                8.0   \n",
       "3             4           ConocoPhillips                9.0   \n",
       "4             5           General Motors               19.0   \n",
       "\n",
       "                City Revenues($ millions)  \n",
       "  Unnamed: 3_level_1   Unnamed: 4_level_1  \n",
       "0             Irving             452926.0  \n",
       "1        Bentonville             446950.0  \n",
       "2          San Ramon             245621.0  \n",
       "3            Houston             237272.0  \n",
       "4            Detroit             150276.0  "
      ]
     },
     "execution_count": 30,
     "metadata": {},
     "output_type": "execute_result"
    }
   ],
   "source": [
    "USCompanies=pd.read_html(\"https://money.cnn.com/magazines/fortune/global500/2012/countries/US.html\")\n",
    "Table=USCompanies[0]\n",
    "Table.head()\n",
    "#List of Fortune 500 companies"
   ]
  },
  {
   "cell_type": "code",
   "execution_count": 26,
   "metadata": {},
   "outputs": [
    {
     "data": {
      "text/html": [
       "<div>\n",
       "<style scoped>\n",
       "    .dataframe tbody tr th:only-of-type {\n",
       "        vertical-align: middle;\n",
       "    }\n",
       "\n",
       "    .dataframe tbody tr th {\n",
       "        vertical-align: top;\n",
       "    }\n",
       "\n",
       "    .dataframe thead tr th {\n",
       "        text-align: left;\n",
       "    }\n",
       "</style>\n",
       "<table border=\"1\" class=\"dataframe\">\n",
       "  <thead>\n",
       "    <tr>\n",
       "      <th></th>\n",
       "      <th>CountryRank ▾</th>\n",
       "      <th>Company</th>\n",
       "      <th>Global500rank</th>\n",
       "      <th>City</th>\n",
       "      <th>Revenues($ millions)</th>\n",
       "    </tr>\n",
       "    <tr>\n",
       "      <th></th>\n",
       "      <th>Country</th>\n",
       "      <th># of GLOBAL500 Companies</th>\n",
       "      <th>Unnamed: 2_level_1</th>\n",
       "      <th>Unnamed: 3_level_1</th>\n",
       "      <th>Unnamed: 4_level_1</th>\n",
       "    </tr>\n",
       "  </thead>\n",
       "  <tbody>\n",
       "    <tr>\n",
       "      <th>67</th>\n",
       "      <td>68</td>\n",
       "      <td>Walt Disney</td>\n",
       "      <td>249.0</td>\n",
       "      <td>Burbank</td>\n",
       "      <td>40893.0</td>\n",
       "    </tr>\n",
       "  </tbody>\n",
       "</table>\n",
       "</div>"
      ],
      "text/plain": [
       "   CountryRank ▾                  Company      Global500rank  \\\n",
       "         Country # of GLOBAL500 Companies Unnamed: 2_level_1   \n",
       "67            68              Walt Disney              249.0   \n",
       "\n",
       "                 City Revenues($ millions)  \n",
       "   Unnamed: 3_level_1   Unnamed: 4_level_1  \n",
       "67            Burbank              40893.0  "
      ]
     },
     "execution_count": 26,
     "metadata": {},
     "output_type": "execute_result"
    }
   ],
   "source": [
    "Disney=Table.loc[[67]]\n",
    "Disney\n",
    "#Walt Disney Company"
   ]
  },
  {
   "cell_type": "code",
   "execution_count": 15,
   "metadata": {},
   "outputs": [
    {
     "data": {
      "text/plain": [
       "\"The Walt Disney Company, together with its subsidiaries, operates as an entertainment company worldwide. The company's Media Networks segment operates domestic cable networks under the Disney, ESPN, Freeform, FX, and National Geographic brands; and television broadcast network under the ABC brand, as well as eight domestic television stations. This segment is also involved in the television production and distribution. Its Parks, Experiences and Products segment operates theme parks and resorts, such as Walt Disney World Resort in Florida; Disneyland Resort in California; Disneyland Paris; Hong Kong Disneyland Resort; and Shanghai Disney Resort; Disney Cruise Line, Disney Vacation Club, National Geographic Expeditions, and Adventures by Disney and Aulani, a Disney resort and spa in Hawaii, as well as licenses its intellectual property to a third party for the operations of the Tokyo Disney Resort in Japan. The company's Studio Entertainment segment produces and distributes motion pictures under the Walt Disney Pictures, Twentieth Century Studios, Marvel, Lucasfilm, Pixar, Searchlight Pictures, and Blue Sky Studios banners; develops, produces, and licenses live entertainment events; produces and distributes music; and provides post-production services through Industrial Light & Magic and Skywalker Sound. Its Direct-To-Consumer & International segment operates international television networks and channels comprising Disney, ESPN, Fox, National Geographic, and Star; direct-to-consumer videos streaming services consisting of Disney+/Disney+Hotstar, ESPN+, and Hulu; and operates branded apps and Websites, such as Disney Movie Club and Disney Digital Network, as well as provides streaming technology support services. The company was founded in 1923 and is based in Burbank, California.\""
      ]
     },
     "execution_count": 15,
     "metadata": {},
     "output_type": "execute_result"
    }
   ],
   "source": [
    "dis=yf.Ticker(\"DIS\")\n",
    "dis.info['longBusinessSummary']\n",
    "#Walt Disney company description"
   ]
  },
  {
   "cell_type": "code",
   "execution_count": 16,
   "metadata": {},
   "outputs": [
    {
     "name": "stdout",
     "output_type": "stream",
     "text": [
      "['DIS', 'Entertainment', '500 South Buena Vista Street', 'Burbank', '91521', 'http://www.thewaltdisneycompany.com']\n"
     ]
    }
   ],
   "source": [
    "print([dis.info['symbol'],\n",
    "      dis.info['industry'],\n",
    "      dis.info['address1'],\n",
    "      dis.info['city'],\n",
    "      dis.info['zip'],\n",
    "     dis.info['website']])\n",
    "#Walt Disney Information"
   ]
  },
  {
   "cell_type": "code",
   "execution_count": 17,
   "metadata": {},
   "outputs": [
    {
     "name": "stdout",
     "output_type": "stream",
     "text": [
      "['CMCSA', 'Entertainment', 'One Comcast Center', 'Philadelphia', '19103-2838', 'http://corporate.comcast.com']\n"
     ]
    }
   ],
   "source": [
    "COMCAST=yf.Ticker(\"CMCSA\")\n",
    "print([COMCAST.info['symbol'],\n",
    "      COMCAST.info['industry'],\n",
    "      COMCAST.info['address1'],\n",
    "      COMCAST.info['city'],\n",
    "      COMCAST.info['zip'],\n",
    "     COMCAST.info['website']])\n",
    "#Comcast information"
   ]
  },
  {
   "cell_type": "code",
   "execution_count": 18,
   "metadata": {},
   "outputs": [
    {
     "name": "stdout",
     "output_type": "stream",
     "text": [
      "[*********************100%***********************]  1 of 1 completed\n"
     ]
    },
    {
     "data": {
      "text/html": [
       "<div>\n",
       "<style scoped>\n",
       "    .dataframe tbody tr th:only-of-type {\n",
       "        vertical-align: middle;\n",
       "    }\n",
       "\n",
       "    .dataframe tbody tr th {\n",
       "        vertical-align: top;\n",
       "    }\n",
       "\n",
       "    .dataframe thead th {\n",
       "        text-align: right;\n",
       "    }\n",
       "</style>\n",
       "<table border=\"1\" class=\"dataframe\">\n",
       "  <thead>\n",
       "    <tr style=\"text-align: right;\">\n",
       "      <th></th>\n",
       "      <th>Open</th>\n",
       "      <th>High</th>\n",
       "      <th>Low</th>\n",
       "      <th>Close</th>\n",
       "      <th>Adj Close</th>\n",
       "      <th>Volume</th>\n",
       "    </tr>\n",
       "    <tr>\n",
       "      <th>Date</th>\n",
       "      <th></th>\n",
       "      <th></th>\n",
       "      <th></th>\n",
       "      <th></th>\n",
       "      <th></th>\n",
       "      <th></th>\n",
       "    </tr>\n",
       "  </thead>\n",
       "  <tbody>\n",
       "    <tr>\n",
       "      <th>2017-01-03</th>\n",
       "      <td>105.300003</td>\n",
       "      <td>106.900002</td>\n",
       "      <td>105.209999</td>\n",
       "      <td>106.080002</td>\n",
       "      <td>101.584358</td>\n",
       "      <td>8884300</td>\n",
       "    </tr>\n",
       "    <tr>\n",
       "      <th>2017-01-04</th>\n",
       "      <td>106.639999</td>\n",
       "      <td>107.500000</td>\n",
       "      <td>106.250000</td>\n",
       "      <td>107.440002</td>\n",
       "      <td>102.886719</td>\n",
       "      <td>8322000</td>\n",
       "    </tr>\n",
       "    <tr>\n",
       "      <th>2017-01-05</th>\n",
       "      <td>107.169998</td>\n",
       "      <td>107.620003</td>\n",
       "      <td>106.790001</td>\n",
       "      <td>107.379997</td>\n",
       "      <td>102.829262</td>\n",
       "      <td>6303000</td>\n",
       "    </tr>\n",
       "    <tr>\n",
       "      <th>2017-01-06</th>\n",
       "      <td>108.019997</td>\n",
       "      <td>109.349998</td>\n",
       "      <td>107.750000</td>\n",
       "      <td>108.980003</td>\n",
       "      <td>104.361458</td>\n",
       "      <td>9551300</td>\n",
       "    </tr>\n",
       "    <tr>\n",
       "      <th>2017-01-09</th>\n",
       "      <td>108.580002</td>\n",
       "      <td>108.830002</td>\n",
       "      <td>108.110001</td>\n",
       "      <td>108.360001</td>\n",
       "      <td>103.767731</td>\n",
       "      <td>6195200</td>\n",
       "    </tr>\n",
       "  </tbody>\n",
       "</table>\n",
       "</div>"
      ],
      "text/plain": [
       "                  Open        High         Low       Close   Adj Close  \\\n",
       "Date                                                                     \n",
       "2017-01-03  105.300003  106.900002  105.209999  106.080002  101.584358   \n",
       "2017-01-04  106.639999  107.500000  106.250000  107.440002  102.886719   \n",
       "2017-01-05  107.169998  107.620003  106.790001  107.379997  102.829262   \n",
       "2017-01-06  108.019997  109.349998  107.750000  108.980003  104.361458   \n",
       "2017-01-09  108.580002  108.830002  108.110001  108.360001  103.767731   \n",
       "\n",
       "             Volume  \n",
       "Date                 \n",
       "2017-01-03  8884300  \n",
       "2017-01-04  8322000  \n",
       "2017-01-05  6303000  \n",
       "2017-01-06  9551300  \n",
       "2017-01-09  6195200  "
      ]
     },
     "execution_count": 18,
     "metadata": {},
     "output_type": "execute_result"
    }
   ],
   "source": [
    "data_dis= yf.download(\"DIS\", start=\"2017-01-01\",end=\"2020-12-13\")\n",
    "data_dis.head()\n",
    "#Walt Disney stock price data"
   ]
  },
  {
   "cell_type": "code",
   "execution_count": 20,
   "metadata": {},
   "outputs": [
    {
     "name": "stdout",
     "output_type": "stream",
     "text": [
      "[*********************100%***********************]  1 of 1 completed\n"
     ]
    },
    {
     "data": {
      "text/html": [
       "<div>\n",
       "<style scoped>\n",
       "    .dataframe tbody tr th:only-of-type {\n",
       "        vertical-align: middle;\n",
       "    }\n",
       "\n",
       "    .dataframe tbody tr th {\n",
       "        vertical-align: top;\n",
       "    }\n",
       "\n",
       "    .dataframe thead th {\n",
       "        text-align: right;\n",
       "    }\n",
       "</style>\n",
       "<table border=\"1\" class=\"dataframe\">\n",
       "  <thead>\n",
       "    <tr style=\"text-align: right;\">\n",
       "      <th></th>\n",
       "      <th>Open</th>\n",
       "      <th>High</th>\n",
       "      <th>Low</th>\n",
       "      <th>Close</th>\n",
       "      <th>Adj Close</th>\n",
       "      <th>Volume</th>\n",
       "    </tr>\n",
       "    <tr>\n",
       "      <th>Date</th>\n",
       "      <th></th>\n",
       "      <th></th>\n",
       "      <th></th>\n",
       "      <th></th>\n",
       "      <th></th>\n",
       "      <th></th>\n",
       "    </tr>\n",
       "  </thead>\n",
       "  <tbody>\n",
       "    <tr>\n",
       "      <th>2017-01-03</th>\n",
       "      <td>34.834999</td>\n",
       "      <td>34.945000</td>\n",
       "      <td>34.115002</td>\n",
       "      <td>34.525002</td>\n",
       "      <td>31.713554</td>\n",
       "      <td>23670400</td>\n",
       "    </tr>\n",
       "    <tr>\n",
       "      <th>2017-01-04</th>\n",
       "      <td>34.755001</td>\n",
       "      <td>35.130001</td>\n",
       "      <td>34.590000</td>\n",
       "      <td>34.935001</td>\n",
       "      <td>32.090164</td>\n",
       "      <td>22010800</td>\n",
       "    </tr>\n",
       "    <tr>\n",
       "      <th>2017-01-05</th>\n",
       "      <td>34.794998</td>\n",
       "      <td>35.130001</td>\n",
       "      <td>34.700001</td>\n",
       "      <td>35.075001</td>\n",
       "      <td>32.218765</td>\n",
       "      <td>16986000</td>\n",
       "    </tr>\n",
       "    <tr>\n",
       "      <th>2017-01-06</th>\n",
       "      <td>35.105000</td>\n",
       "      <td>35.270000</td>\n",
       "      <td>34.910000</td>\n",
       "      <td>35.134998</td>\n",
       "      <td>32.273880</td>\n",
       "      <td>13528000</td>\n",
       "    </tr>\n",
       "    <tr>\n",
       "      <th>2017-01-09</th>\n",
       "      <td>35.070000</td>\n",
       "      <td>35.480000</td>\n",
       "      <td>35.025002</td>\n",
       "      <td>35.415001</td>\n",
       "      <td>32.531082</td>\n",
       "      <td>18135400</td>\n",
       "    </tr>\n",
       "    <tr>\n",
       "      <th>...</th>\n",
       "      <td>...</td>\n",
       "      <td>...</td>\n",
       "      <td>...</td>\n",
       "      <td>...</td>\n",
       "      <td>...</td>\n",
       "      <td>...</td>\n",
       "    </tr>\n",
       "    <tr>\n",
       "      <th>2020-12-07</th>\n",
       "      <td>51.580002</td>\n",
       "      <td>52.020000</td>\n",
       "      <td>51.240002</td>\n",
       "      <td>51.930000</td>\n",
       "      <td>51.457706</td>\n",
       "      <td>12195900</td>\n",
       "    </tr>\n",
       "    <tr>\n",
       "      <th>2020-12-08</th>\n",
       "      <td>51.299999</td>\n",
       "      <td>51.799999</td>\n",
       "      <td>51.209999</td>\n",
       "      <td>51.410000</td>\n",
       "      <td>50.942436</td>\n",
       "      <td>13352400</td>\n",
       "    </tr>\n",
       "    <tr>\n",
       "      <th>2020-12-09</th>\n",
       "      <td>51.619999</td>\n",
       "      <td>52.360001</td>\n",
       "      <td>51.150002</td>\n",
       "      <td>51.259998</td>\n",
       "      <td>50.793800</td>\n",
       "      <td>17327400</td>\n",
       "    </tr>\n",
       "    <tr>\n",
       "      <th>2020-12-10</th>\n",
       "      <td>51.279999</td>\n",
       "      <td>51.279999</td>\n",
       "      <td>50.250000</td>\n",
       "      <td>50.480000</td>\n",
       "      <td>50.020897</td>\n",
       "      <td>17304100</td>\n",
       "    </tr>\n",
       "    <tr>\n",
       "      <th>2020-12-11</th>\n",
       "      <td>50.570000</td>\n",
       "      <td>51.110001</td>\n",
       "      <td>50.130001</td>\n",
       "      <td>50.930000</td>\n",
       "      <td>50.466801</td>\n",
       "      <td>19640200</td>\n",
       "    </tr>\n",
       "  </tbody>\n",
       "</table>\n",
       "<p>994 rows × 6 columns</p>\n",
       "</div>"
      ],
      "text/plain": [
       "                 Open       High        Low      Close  Adj Close    Volume\n",
       "Date                                                                       \n",
       "2017-01-03  34.834999  34.945000  34.115002  34.525002  31.713554  23670400\n",
       "2017-01-04  34.755001  35.130001  34.590000  34.935001  32.090164  22010800\n",
       "2017-01-05  34.794998  35.130001  34.700001  35.075001  32.218765  16986000\n",
       "2017-01-06  35.105000  35.270000  34.910000  35.134998  32.273880  13528000\n",
       "2017-01-09  35.070000  35.480000  35.025002  35.415001  32.531082  18135400\n",
       "...               ...        ...        ...        ...        ...       ...\n",
       "2020-12-07  51.580002  52.020000  51.240002  51.930000  51.457706  12195900\n",
       "2020-12-08  51.299999  51.799999  51.209999  51.410000  50.942436  13352400\n",
       "2020-12-09  51.619999  52.360001  51.150002  51.259998  50.793800  17327400\n",
       "2020-12-10  51.279999  51.279999  50.250000  50.480000  50.020897  17304100\n",
       "2020-12-11  50.570000  51.110001  50.130001  50.930000  50.466801  19640200\n",
       "\n",
       "[994 rows x 6 columns]"
      ]
     },
     "execution_count": 20,
     "metadata": {},
     "output_type": "execute_result"
    }
   ],
   "source": [
    "data_COM=yf.download(\"CMCSA\", start=\"2017-01-01\",end=\"2020-12-13\")\n",
    "data_COM\n",
    "#Comcast stock price data"
   ]
  },
  {
   "cell_type": "code",
   "execution_count": 98,
   "metadata": {},
   "outputs": [],
   "source": [
    "data_dis.dtypes\n",
    "data_dis['Volume']=data_dis['Volume'].astype(float)"
   ]
  },
  {
   "cell_type": "code",
   "execution_count": 99,
   "metadata": {},
   "outputs": [],
   "source": [
    "data_COM.dtypes\n",
    "data_COM['Volume']=data_COM['Volume'].astype(float)"
   ]
  },
  {
   "cell_type": "code",
   "execution_count": 106,
   "metadata": {},
   "outputs": [
    {
     "data": {
      "image/png": "[encoded data removed]",
      "text/plain": [
       "<Figure size 720x576 with 1 Axes>"
      ]
     },
     "metadata": {},
     "output_type": "display_data"
    }
   ],
   "source": [
    "data_dis.plot(y='Open',figsize=[10,8])\n",
    "plt.title('Stock Price Walt Disney', fontdict={'fontname':'Arial','fontsize':'20','color':'navy'}, loc='right')\n",
    "plt.ylabel('Stock Price', fontdict={'fontname':'Arial', 'fontsize':15})\n",
    "plt.xlabel('Date', fontdict={'fontname':'Arial', 'fontsize':15})\n",
    "sns.set_style(\"darkgrid\")\n",
    "plt.show()"
   ]
  },
  {
   "cell_type": "code",
   "execution_count": 107,
   "metadata": {},
   "outputs": [
    {
     "data": {
      "image/png": "[encoded data removed]",
      "text/plain": [
       "<Figure size 720x576 with 1 Axes>"
      ]
     },
     "metadata": {},
     "output_type": "display_data"
    }
   ],
   "source": [
    "data_COM.plot(y='Open',figsize=[10,8])\n",
    "plt.title('Stock Price Comcast', fontdict={'fontname':'Arial','fontsize':'20','color':'navy'}, loc='right')\n",
    "plt.ylabel('Stock Price', fontdict={'fontname':'Arial', 'fontsize':15})\n",
    "plt.xlabel('Date', fontdict={'fontname':'Arial', 'fontsize':15})\n",
    "sns.set_style(\"darkgrid\")\n",
    "plt.show()"
   ]
  },
  {
   "cell_type": "code",
   "execution_count": 108,
   "metadata": {},
   "outputs": [
    {
     "data": {
      "image/png": "[encoded data removed]",
      "text/plain": [
       "<Figure size 432x288 with 1 Axes>"
      ]
     },
     "metadata": {},
     "output_type": "display_data"
    },
    {
     "data": {
      "image/png": "[encoded data removed]",
      "text/plain": [
       "<Figure size 432x288 with 1 Axes>"
      ]
     },
     "metadata": {},
     "output_type": "display_data"
    }
   ],
   "source": [
    "data_dis.plot(y='Open',color='blue')\n",
    "data_COM.plot(y='Open',color='yellow')\n",
    "sns.set_style(\"darkgrid\")\n",
    "plt.ylabel('Stock Price)', fontdict={'fontname':'Arial', 'fontsize':10})\n",
    "plt.xlabel('Date', fontdict={'fontname':'Arial', 'fontsize':10})\n",
    "plt.legend()\n",
    "plt.show()\n",
    "#Combined Plot"
   ]
  },
  {
   "cell_type": "code",
   "execution_count": 116,
   "metadata": {},
   "outputs": [
    {
     "ename": "SessionNotCreatedException",
     "evalue": "Message: session not created: This version of ChromeDriver only supports Chrome version 91\nCurrent browser version is 90.0.4430.93 with binary path C:\\Program Files (x86)\\Google\\Chrome\\Application\\chrome.exe\n",
     "output_type": "error",
     "traceback": [
      "\u001b[1;31m---------------------------------------------------------------------------\u001b[0m",
      "\u001b[1;31mSessionNotCreatedException\u001b[0m                Traceback (most recent call last)",
      "\u001b[1;32m<ipython-input-116-a8c2964e95a8>\u001b[0m in \u001b[0;36m<module>\u001b[1;34m\u001b[0m\n\u001b[0;32m      1\u001b[0m \u001b[0mdis_link\u001b[0m \u001b[1;33m=\u001b[0m \u001b[1;34m'https://finance.yahoo.com/quote/DIS/financials?p=DIS'\u001b[0m\u001b[1;33m\u001b[0m\u001b[1;33m\u001b[0m\u001b[0m\n\u001b[1;32m----> 2\u001b[1;33m \u001b[0mdriver\u001b[0m \u001b[1;33m=\u001b[0m \u001b[0mwebdriver\u001b[0m\u001b[1;33m.\u001b[0m\u001b[0mChrome\u001b[0m\u001b[1;33m(\u001b[0m\u001b[1;33m)\u001b[0m\u001b[1;33m\u001b[0m\u001b[1;33m\u001b[0m\u001b[0m\n\u001b[0m\u001b[0;32m      3\u001b[0m \u001b[0mdriver\u001b[0m\u001b[1;33m.\u001b[0m\u001b[0mget\u001b[0m\u001b[1;33m(\u001b[0m\u001b[0mdis_link\u001b[0m\u001b[1;33m)\u001b[0m\u001b[1;33m\u001b[0m\u001b[1;33m\u001b[0m\u001b[0m\n\u001b[0;32m      4\u001b[0m \u001b[0mhtml\u001b[0m \u001b[1;33m=\u001b[0m \u001b[0mdriver\u001b[0m\u001b[1;33m.\u001b[0m\u001b[0mexecute_script\u001b[0m\u001b[1;33m(\u001b[0m\u001b[1;34m'return document.body.innerHTML;'\u001b[0m\u001b[1;33m)\u001b[0m\u001b[1;33m\u001b[0m\u001b[1;33m\u001b[0m\u001b[0m\n\u001b[0;32m      5\u001b[0m \u001b[0msoup\u001b[0m \u001b[1;33m=\u001b[0m \u001b[0mBeautifulSoup\u001b[0m\u001b[1;33m(\u001b[0m\u001b[0mhtml\u001b[0m\u001b[1;33m,\u001b[0m\u001b[1;34m'lxml'\u001b[0m\u001b[1;33m)\u001b[0m\u001b[1;33m\u001b[0m\u001b[1;33m\u001b[0m\u001b[0m\n",
      "\u001b[1;32m~\\anaconda3\\lib\\site-packages\\selenium\\webdriver\\chrome\\webdriver.py\u001b[0m in \u001b[0;36m__init__\u001b[1;34m(self, executable_path, port, options, service_args, desired_capabilities, service_log_path, chrome_options, keep_alive)\u001b[0m\n\u001b[0;32m     74\u001b[0m \u001b[1;33m\u001b[0m\u001b[0m\n\u001b[0;32m     75\u001b[0m         \u001b[1;32mtry\u001b[0m\u001b[1;33m:\u001b[0m\u001b[1;33m\u001b[0m\u001b[1;33m\u001b[0m\u001b[0m\n\u001b[1;32m---> 76\u001b[1;33m             RemoteWebDriver.__init__(\n\u001b[0m\u001b[0;32m     77\u001b[0m                 \u001b[0mself\u001b[0m\u001b[1;33m,\u001b[0m\u001b[1;33m\u001b[0m\u001b[1;33m\u001b[0m\u001b[0m\n\u001b[0;32m     78\u001b[0m                 command_executor=ChromeRemoteConnection(\n",
      "\u001b[1;32m~\\anaconda3\\lib\\site-packages\\selenium\\webdriver\\remote\\webdriver.py\u001b[0m in \u001b[0;36m__init__\u001b[1;34m(self, command_executor, desired_capabilities, browser_profile, proxy, keep_alive, file_detector, options)\u001b[0m\n\u001b[0;32m    155\u001b[0m             warnings.warn(\"Please use FirefoxOptions to set browser profile\",\n\u001b[0;32m    156\u001b[0m                           DeprecationWarning, stacklevel=2)\n\u001b[1;32m--> 157\u001b[1;33m         \u001b[0mself\u001b[0m\u001b[1;33m.\u001b[0m\u001b[0mstart_session\u001b[0m\u001b[1;33m(\u001b[0m\u001b[0mcapabilities\u001b[0m\u001b[1;33m,\u001b[0m \u001b[0mbrowser_profile\u001b[0m\u001b[1;33m)\u001b[0m\u001b[1;33m\u001b[0m\u001b[1;33m\u001b[0m\u001b[0m\n\u001b[0m\u001b[0;32m    158\u001b[0m         \u001b[0mself\u001b[0m\u001b[1;33m.\u001b[0m\u001b[0m_switch_to\u001b[0m \u001b[1;33m=\u001b[0m \u001b[0mSwitchTo\u001b[0m\u001b[1;33m(\u001b[0m\u001b[0mself\u001b[0m\u001b[1;33m)\u001b[0m\u001b[1;33m\u001b[0m\u001b[1;33m\u001b[0m\u001b[0m\n\u001b[0;32m    159\u001b[0m         \u001b[0mself\u001b[0m\u001b[1;33m.\u001b[0m\u001b[0m_mobile\u001b[0m \u001b[1;33m=\u001b[0m \u001b[0mMobile\u001b[0m\u001b[1;33m(\u001b[0m\u001b[0mself\u001b[0m\u001b[1;33m)\u001b[0m\u001b[1;33m\u001b[0m\u001b[1;33m\u001b[0m\u001b[0m\n",
      "\u001b[1;32m~\\anaconda3\\lib\\site-packages\\selenium\\webdriver\\remote\\webdriver.py\u001b[0m in \u001b[0;36mstart_session\u001b[1;34m(self, capabilities, browser_profile)\u001b[0m\n\u001b[0;32m    250\u001b[0m         parameters = {\"capabilities\": w3c_caps,\n\u001b[0;32m    251\u001b[0m                       \"desiredCapabilities\": capabilities}\n\u001b[1;32m--> 252\u001b[1;33m         \u001b[0mresponse\u001b[0m \u001b[1;33m=\u001b[0m \u001b[0mself\u001b[0m\u001b[1;33m.\u001b[0m\u001b[0mexecute\u001b[0m\u001b[1;33m(\u001b[0m\u001b[0mCommand\u001b[0m\u001b[1;33m.\u001b[0m\u001b[0mNEW_SESSION\u001b[0m\u001b[1;33m,\u001b[0m \u001b[0mparameters\u001b[0m\u001b[1;33m)\u001b[0m\u001b[1;33m\u001b[0m\u001b[1;33m\u001b[0m\u001b[0m\n\u001b[0m\u001b[0;32m    253\u001b[0m         \u001b[1;32mif\u001b[0m \u001b[1;34m'sessionId'\u001b[0m \u001b[1;32mnot\u001b[0m \u001b[1;32min\u001b[0m \u001b[0mresponse\u001b[0m\u001b[1;33m:\u001b[0m\u001b[1;33m\u001b[0m\u001b[1;33m\u001b[0m\u001b[0m\n\u001b[0;32m    254\u001b[0m             \u001b[0mresponse\u001b[0m \u001b[1;33m=\u001b[0m \u001b[0mresponse\u001b[0m\u001b[1;33m[\u001b[0m\u001b[1;34m'value'\u001b[0m\u001b[1;33m]\u001b[0m\u001b[1;33m\u001b[0m\u001b[1;33m\u001b[0m\u001b[0m\n",
      "\u001b[1;32m~\\anaconda3\\lib\\site-packages\\selenium\\webdriver\\remote\\webdriver.py\u001b[0m in \u001b[0;36mexecute\u001b[1;34m(self, driver_command, params)\u001b[0m\n\u001b[0;32m    319\u001b[0m         \u001b[0mresponse\u001b[0m \u001b[1;33m=\u001b[0m \u001b[0mself\u001b[0m\u001b[1;33m.\u001b[0m\u001b[0mcommand_executor\u001b[0m\u001b[1;33m.\u001b[0m\u001b[0mexecute\u001b[0m\u001b[1;33m(\u001b[0m\u001b[0mdriver_command\u001b[0m\u001b[1;33m,\u001b[0m \u001b[0mparams\u001b[0m\u001b[1;33m)\u001b[0m\u001b[1;33m\u001b[0m\u001b[1;33m\u001b[0m\u001b[0m\n\u001b[0;32m    320\u001b[0m         \u001b[1;32mif\u001b[0m \u001b[0mresponse\u001b[0m\u001b[1;33m:\u001b[0m\u001b[1;33m\u001b[0m\u001b[1;33m\u001b[0m\u001b[0m\n\u001b[1;32m--> 321\u001b[1;33m             \u001b[0mself\u001b[0m\u001b[1;33m.\u001b[0m\u001b[0merror_handler\u001b[0m\u001b[1;33m.\u001b[0m\u001b[0mcheck_response\u001b[0m\u001b[1;33m(\u001b[0m\u001b[0mresponse\u001b[0m\u001b[1;33m)\u001b[0m\u001b[1;33m\u001b[0m\u001b[1;33m\u001b[0m\u001b[0m\n\u001b[0m\u001b[0;32m    322\u001b[0m             response['value'] = self._unwrap_value(\n\u001b[0;32m    323\u001b[0m                 response.get('value', None))\n",
      "\u001b[1;32m~\\anaconda3\\lib\\site-packages\\selenium\\webdriver\\remote\\errorhandler.py\u001b[0m in \u001b[0;36mcheck_response\u001b[1;34m(self, response)\u001b[0m\n\u001b[0;32m    240\u001b[0m                 \u001b[0malert_text\u001b[0m \u001b[1;33m=\u001b[0m \u001b[0mvalue\u001b[0m\u001b[1;33m[\u001b[0m\u001b[1;34m'alert'\u001b[0m\u001b[1;33m]\u001b[0m\u001b[1;33m.\u001b[0m\u001b[0mget\u001b[0m\u001b[1;33m(\u001b[0m\u001b[1;34m'text'\u001b[0m\u001b[1;33m)\u001b[0m\u001b[1;33m\u001b[0m\u001b[1;33m\u001b[0m\u001b[0m\n\u001b[0;32m    241\u001b[0m             \u001b[1;32mraise\u001b[0m \u001b[0mexception_class\u001b[0m\u001b[1;33m(\u001b[0m\u001b[0mmessage\u001b[0m\u001b[1;33m,\u001b[0m \u001b[0mscreen\u001b[0m\u001b[1;33m,\u001b[0m \u001b[0mstacktrace\u001b[0m\u001b[1;33m,\u001b[0m \u001b[0malert_text\u001b[0m\u001b[1;33m)\u001b[0m\u001b[1;33m\u001b[0m\u001b[1;33m\u001b[0m\u001b[0m\n\u001b[1;32m--> 242\u001b[1;33m         \u001b[1;32mraise\u001b[0m \u001b[0mexception_class\u001b[0m\u001b[1;33m(\u001b[0m\u001b[0mmessage\u001b[0m\u001b[1;33m,\u001b[0m \u001b[0mscreen\u001b[0m\u001b[1;33m,\u001b[0m \u001b[0mstacktrace\u001b[0m\u001b[1;33m)\u001b[0m\u001b[1;33m\u001b[0m\u001b[1;33m\u001b[0m\u001b[0m\n\u001b[0m\u001b[0;32m    243\u001b[0m \u001b[1;33m\u001b[0m\u001b[0m\n\u001b[0;32m    244\u001b[0m     \u001b[1;32mdef\u001b[0m \u001b[0m_value_or_default\u001b[0m\u001b[1;33m(\u001b[0m\u001b[0mself\u001b[0m\u001b[1;33m,\u001b[0m \u001b[0mobj\u001b[0m\u001b[1;33m,\u001b[0m \u001b[0mkey\u001b[0m\u001b[1;33m,\u001b[0m \u001b[0mdefault\u001b[0m\u001b[1;33m)\u001b[0m\u001b[1;33m:\u001b[0m\u001b[1;33m\u001b[0m\u001b[1;33m\u001b[0m\u001b[0m\n",
      "\u001b[1;31mSessionNotCreatedException\u001b[0m: Message: session not created: This version of ChromeDriver only supports Chrome version 91\nCurrent browser version is 90.0.4430.93 with binary path C:\\Program Files (x86)\\Google\\Chrome\\Application\\chrome.exe\n"
     ]
    }
   ],
   "source": [
    "dis_link = 'https://finance.yahoo.com/quote/DIS/financials?p=DIS'\n",
    "driver = webdriver.Chrome()\n",
    "driver.get(dis_link)\n",
    "html = driver.execute_script('return document.body.innerHTML;')\n",
    "soup = BeautifulSoup(html,'lxml')"
   ]
  },
  {
   "cell_type": "code",
   "execution_count": null,
   "metadata": {},
   "outputs": [],
   "source": []
  },
  {
   "cell_type": "code",
   "execution_count": null,
   "metadata": {},
   "outputs": [],
   "source": []
  },
  {
   "cell_type": "code",
   "execution_count": 118,
   "metadata": {},
   "outputs": [
    {
     "data": {
      "text/plain": [
       "[                    Unnamed: 0 As of Date: 5/1/2021Current 12/31/2020  \\\n",
       " 0      Market Cap (intraday) 5                     337.68B    328.02B   \n",
       " 1           Enterprise Value 3                     378.88B    368.74B   \n",
       " 2                 Trailing P/E                       51.22        NaN   \n",
       " 3                Forward P/E 1                      149.25      89.29   \n",
       " 4  PEG Ratio (5 yr expected) 1                        4.61       2.97   \n",
       " 5            Price/Sales (ttm)                        5.54       5.01   \n",
       " 6             Price/Book (mrq)                        4.02       3.92   \n",
       " 7   Enterprise Value/Revenue 3                        6.24      22.69   \n",
       " 8    Enterprise Value/EBITDA 7                      139.81     210.95   \n",
       " \n",
       "   9/30/2020 6/30/2020 3/31/2020  \n",
       " 0   224.22B   198.60B   172.04B  \n",
       " 1   265.53B   239.71B   213.29B  \n",
       " 2       NaN     48.69     17.31  \n",
       " 3     48.08     36.23     23.15  \n",
       " 4     13.33     10.03      3.89  \n",
       " 5      3.22      2.59      2.24  \n",
       " 6      2.61      2.20      1.92  \n",
       " 7     18.05     20.35     11.84  \n",
       " 8    217.82    -79.77     77.33  ,\n",
       "                           0       1\n",
       " 0         Beta (5Y Monthly)    1.21\n",
       " 1          52-Week Change 3  83.56%\n",
       " 2   S&P500 52-Week Change 3  46.17%\n",
       " 3            52 Week High 3  203.02\n",
       " 4             52 Week Low 3   98.86\n",
       " 5   50-Day Moving Average 3  187.27\n",
       " 6  200-Day Moving Average 3  170.27,\n",
       "                                                  0       1\n",
       " 0                              Avg Vol (3 month) 3  11.08M\n",
       " 1                               Avg Vol (10 day) 3   6.27M\n",
       " 2                             Shares Outstanding 5   1.82B\n",
       " 3                     Implied Shares Outstanding 6     NaN\n",
       " 4                                            Float   1.81B\n",
       " 5                             % Held by Insiders 1   0.12%\n",
       " 6                         % Held by Institutions 1  67.20%\n",
       " 7                    Shares Short (Apr 14, 2021) 4  23.28M\n",
       " 8                     Short Ratio (Apr 14, 2021) 4    2.43\n",
       " 9                Short % of Float (Apr 14, 2021) 4   1.28%\n",
       " 10  Short % of Shares Outstanding (Apr 14, 2021) 4   1.28%\n",
       " 11       Shares Short (prior month Mar 14, 2021) 4  24.35M,\n",
       "                                   0             1\n",
       " 0    Forward Annual Dividend Rate 4           NaN\n",
       " 1   Forward Annual Dividend Yield 4           NaN\n",
       " 2   Trailing Annual Dividend Rate 3          0.88\n",
       " 3  Trailing Annual Dividend Yield 3         0.47%\n",
       " 4   5 Year Average Dividend Yield 4           NaN\n",
       " 5                    Payout Ratio 4         0.00%\n",
       " 6                   Dividend Date 3  Jan 15, 2020\n",
       " 7                Ex-Dividend Date 4  Dec 12, 2019\n",
       " 8               Last Split Factor 2    10000:9865\n",
       " 9                 Last Split Date 3  Jun 12, 2007,\n",
       "                            0             1\n",
       " 0           Fiscal Year Ends  Oct 02, 2020\n",
       " 1  Most Recent Quarter (mrq)  Jan 01, 2021,\n",
       "                         0       1\n",
       " 0           Profit Margin  -8.15%\n",
       " 1  Operating Margin (ttm)   1.92%,\n",
       "                         0       1\n",
       " 0  Return on Assets (ttm)   0.36%\n",
       " 1  Return on Equity (ttm)  -4.54%,\n",
       "                                  0        1\n",
       " 0                    Revenue (ttm)   60.76B\n",
       " 1          Revenue Per Share (ttm)    33.57\n",
       " 2   Quarterly Revenue Growth (yoy)  -22.20%\n",
       " 3               Gross Profit (ttm)   21.51B\n",
       " 4                           EBITDA    6.51B\n",
       " 5   Net Income Avi to Common (ttm)   -4.93B\n",
       " 6                Diluted EPS (ttm)    -2.74\n",
       " 7  Quarterly Earnings Growth (yoy)  -99.20%,\n",
       "                             0       1\n",
       " 0            Total Cash (mrq)  17.07B\n",
       " 1  Total Cash Per Share (mrq)     9.4\n",
       " 2            Total Debt (mrq)  58.28B\n",
       " 3     Total Debt/Equity (mrq)   59.43\n",
       " 4         Current Ratio (mrq)    1.31\n",
       " 5  Book Value Per Share (mrq)   46.34,\n",
       "                               0      1\n",
       " 0     Operating Cash Flow (ttm)  6.09B\n",
       " 1  Levered Free Cash Flow (ttm)  2.46B]"
      ]
     },
     "execution_count": 118,
     "metadata": {},
     "output_type": "execute_result"
    }
   ],
   "source": [
    "company = 'DIS'\n",
    "statistics = pd.read_html(f'https://finance.yahoo.com/quote/{company}/key-statistics?p={company}')\n",
    "statistics"
   ]
  },
  {
   "cell_type": "code",
   "execution_count": 146,
   "metadata": {},
   "outputs": [
    {
     "data": {
      "text/html": [
       "<div>\n",
       "<style scoped>\n",
       "    .dataframe tbody tr th:only-of-type {\n",
       "        vertical-align: middle;\n",
       "    }\n",
       "\n",
       "    .dataframe tbody tr th {\n",
       "        vertical-align: top;\n",
       "    }\n",
       "\n",
       "    .dataframe thead th {\n",
       "        text-align: right;\n",
       "    }\n",
       "</style>\n",
       "<table border=\"1\" class=\"dataframe\">\n",
       "  <thead>\n",
       "    <tr style=\"text-align: right;\">\n",
       "      <th></th>\n",
       "      <th>Walt Disney</th>\n",
       "      <th>Comcast</th>\n",
       "    </tr>\n",
       "    <tr>\n",
       "      <th>date</th>\n",
       "      <th></th>\n",
       "      <th></th>\n",
       "    </tr>\n",
       "  </thead>\n",
       "  <tbody>\n",
       "    <tr>\n",
       "      <th>2016-05-08</th>\n",
       "      <td>23</td>\n",
       "      <td>82</td>\n",
       "    </tr>\n",
       "    <tr>\n",
       "      <th>2016-05-15</th>\n",
       "      <td>24</td>\n",
       "      <td>84</td>\n",
       "    </tr>\n",
       "    <tr>\n",
       "      <th>2016-05-22</th>\n",
       "      <td>23</td>\n",
       "      <td>86</td>\n",
       "    </tr>\n",
       "    <tr>\n",
       "      <th>2016-05-29</th>\n",
       "      <td>21</td>\n",
       "      <td>88</td>\n",
       "    </tr>\n",
       "    <tr>\n",
       "      <th>2016-06-05</th>\n",
       "      <td>22</td>\n",
       "      <td>88</td>\n",
       "    </tr>\n",
       "    <tr>\n",
       "      <th>...</th>\n",
       "      <td>...</td>\n",
       "      <td>...</td>\n",
       "    </tr>\n",
       "    <tr>\n",
       "      <th>2021-04-04</th>\n",
       "      <td>14</td>\n",
       "      <td>37</td>\n",
       "    </tr>\n",
       "    <tr>\n",
       "      <th>2021-04-11</th>\n",
       "      <td>13</td>\n",
       "      <td>35</td>\n",
       "    </tr>\n",
       "    <tr>\n",
       "      <th>2021-04-18</th>\n",
       "      <td>13</td>\n",
       "      <td>36</td>\n",
       "    </tr>\n",
       "    <tr>\n",
       "      <th>2021-04-25</th>\n",
       "      <td>14</td>\n",
       "      <td>38</td>\n",
       "    </tr>\n",
       "    <tr>\n",
       "      <th>2021-05-02</th>\n",
       "      <td>16</td>\n",
       "      <td>32</td>\n",
       "    </tr>\n",
       "  </tbody>\n",
       "</table>\n",
       "<p>261 rows × 2 columns</p>\n",
       "</div>"
      ],
      "text/plain": [
       "            Walt Disney  Comcast\n",
       "date                            \n",
       "2016-05-08           23       82\n",
       "2016-05-15           24       84\n",
       "2016-05-22           23       86\n",
       "2016-05-29           21       88\n",
       "2016-06-05           22       88\n",
       "...                 ...      ...\n",
       "2021-04-04           14       37\n",
       "2021-04-11           13       35\n",
       "2021-04-18           13       36\n",
       "2021-04-25           14       38\n",
       "2021-05-02           16       32\n",
       "\n",
       "[261 rows x 2 columns]"
      ]
     },
     "execution_count": 146,
     "metadata": {},
     "output_type": "execute_result"
    }
   ],
   "source": [
    "from pytrends.request import TrendReq\n",
    "pytrends=TrendReq(hl='en-US',tz=360)\n",
    "kw_list=['Walt Disney','Comcast']\n",
    "pytrends.build_payload(kw_list, cat=0, timeframe='today 5-y', geo='', gprop='')\n",
    "data=pytrends.interest_over_time()\n",
    "data=data.drop(columns='isPartial')\n",
    "data"
   ]
  },
  {
   "cell_type": "code",
   "execution_count": 162,
   "metadata": {},
   "outputs": [
    {
     "ename": "AttributeError",
     "evalue": "'list' object has no attribute 'plot'",
     "output_type": "error",
     "traceback": [
      "\u001b[1;31m---------------------------------------------------------------------------\u001b[0m",
      "\u001b[1;31mAttributeError\u001b[0m                            Traceback (most recent call last)",
      "\u001b[1;32m<ipython-input-162-5b265f21116a>\u001b[0m in \u001b[0;36m<module>\u001b[1;34m\u001b[0m\n\u001b[1;32m----> 1\u001b[1;33m \u001b[0mdata\u001b[0m\u001b[1;33m.\u001b[0m\u001b[0mplot\u001b[0m\u001b[1;33m(\u001b[0m\u001b[1;33m)\u001b[0m\u001b[1;33m\u001b[0m\u001b[1;33m\u001b[0m\u001b[0m\n\u001b[0m\u001b[0;32m      2\u001b[0m \u001b[0mplt\u001b[0m\u001b[1;33m.\u001b[0m\u001b[0mtitle\u001b[0m\u001b[1;33m(\u001b[0m\u001b[1;34m'Google Trend-last 5 years'\u001b[0m\u001b[1;33m)\u001b[0m\u001b[1;33m\u001b[0m\u001b[1;33m\u001b[0m\u001b[0m\n\u001b[0;32m      3\u001b[0m \u001b[0mplt\u001b[0m\u001b[1;33m.\u001b[0m\u001b[0mshow\u001b[0m\u001b[1;33m(\u001b[0m\u001b[1;33m)\u001b[0m\u001b[1;33m\u001b[0m\u001b[1;33m\u001b[0m\u001b[0m\n\u001b[0;32m      4\u001b[0m \u001b[0mplt\u001b[0m\u001b[1;33m.\u001b[0m\u001b[0msavefig\u001b[0m\u001b[1;33m(\u001b[0m\u001b[1;34m'Google.jpg'\u001b[0m\u001b[1;33m,\u001b[0m\u001b[0mdpi\u001b[0m\u001b[1;33m=\u001b[0m\u001b[1;36m500\u001b[0m\u001b[1;33m)\u001b[0m\u001b[1;33m\u001b[0m\u001b[1;33m\u001b[0m\u001b[0m\n",
      "\u001b[1;31mAttributeError\u001b[0m: 'list' object has no attribute 'plot'"
     ]
    }
   ],
   "source": [
    "data.plot()\n",
    "plt.title('Google Trend-last 5 years')\n",
    "plt.show()\n",
    "plt.savefig('Google.jpg',dpi=500)"
   ]
  },
  {
   "cell_type": "code",
   "execution_count": null,
   "metadata": {},
   "outputs": [],
   "source": []
  }
 ],
 "metadata": {
  "kernelspec": {
   "display_name": "Python 3",
   "language": "python",
   "name": "python3"
  },
  "language_info": {
   "codemirror_mode": {
    "name": "ipython",
    "version": 3
   },
   "file_extension": ".py",
   "mimetype": "text/x-python",
   "name": "python",
   "nbconvert_exporter": "python",
   "pygments_lexer": "ipython3",
   "version": "3.8.5"
  }
 },
 "nbformat": 4,
 "nbformat_minor": 4
}
