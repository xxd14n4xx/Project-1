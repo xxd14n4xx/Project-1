{
 "cells": [
  {
   "cell_type": "code",
   "execution_count": 94,
   "metadata": {},
   "outputs": [],
   "source": [
    "import requests\n",
    "import yfinance as yf\n",
    "import pandas as pd\n",
    "import matplotlib.pyplot as plt\n",
    "from bs4 import BeautifulSoup\n",
    "import re"
   ]
  },
  {
   "cell_type": "code",
   "execution_count": 93,
   "metadata": {},
   "outputs": [
    {
     "data": {
      "text/html": [
       "<div>\n",
       "<style scoped>\n",
       "    .dataframe tbody tr th:only-of-type {\n",
       "        vertical-align: middle;\n",
       "    }\n",
       "\n",
       "    .dataframe tbody tr th {\n",
       "        vertical-align: top;\n",
       "    }\n",
       "\n",
       "    .dataframe thead tr th {\n",
       "        text-align: left;\n",
       "    }\n",
       "</style>\n",
       "<table border=\"1\" class=\"dataframe\">\n",
       "  <thead>\n",
       "    <tr>\n",
       "      <th></th>\n",
       "      <th>CountryRank ▾</th>\n",
       "      <th>Company</th>\n",
       "      <th>Global500rank</th>\n",
       "      <th>City</th>\n",
       "      <th>Revenues($ millions)</th>\n",
       "    </tr>\n",
       "    <tr>\n",
       "      <th></th>\n",
       "      <th>Country</th>\n",
       "      <th># of GLOBAL500 Companies</th>\n",
       "      <th>Unnamed: 2_level_1</th>\n",
       "      <th>Unnamed: 3_level_1</th>\n",
       "      <th>Unnamed: 4_level_1</th>\n",
       "    </tr>\n",
       "  </thead>\n",
       "  <tbody>\n",
       "    <tr>\n",
       "      <th>67</th>\n",
       "      <td>68</td>\n",
       "      <td>Walt Disney</td>\n",
       "      <td>249.0</td>\n",
       "      <td>Burbank</td>\n",
       "      <td>40893.0</td>\n",
       "    </tr>\n",
       "  </tbody>\n",
       "</table>\n",
       "</div>"
      ],
      "text/plain": [
       "   CountryRank ▾                  Company      Global500rank  \\\n",
       "         Country # of GLOBAL500 Companies Unnamed: 2_level_1   \n",
       "67            68              Walt Disney              249.0   \n",
       "\n",
       "                 City Revenues($ millions)  \n",
       "   Unnamed: 3_level_1   Unnamed: 4_level_1  \n",
       "67            Burbank              40893.0  "
      ]
     },
     "execution_count": 93,
     "metadata": {},
     "output_type": "execute_result"
    }
   ],
   "source": [
    "USCompanies=pd.read_html(\"https://money.cnn.com/magazines/fortune/global500/2012/countries/US.html\")\n",
    "Table=USCompanies[0]\n",
    "Disney=Table.loc[[67]]\n",
    "Disney"
   ]
  },
  {
   "cell_type": "code",
   "execution_count": 102,
   "metadata": {},
   "outputs": [
    {
     "data": {
      "text/plain": [
       "\"The Walt Disney Company, together with its subsidiaries, operates as an entertainment company worldwide. The company's Media Networks segment operates domestic cable networks under the Disney, ESPN, Freeform, FX, and National Geographic brands; and television broadcast network under the ABC brand, as well as eight domestic television stations. This segment is also involved in the television production and distribution. Its Parks, Experiences and Products segment operates theme parks and resorts, such as Walt Disney World Resort in Florida; Disneyland Resort in California; Disneyland Paris; Hong Kong Disneyland Resort; and Shanghai Disney Resort; Disney Cruise Line, Disney Vacation Club, National Geographic Expeditions, and Adventures by Disney and Aulani, a Disney resort and spa in Hawaii, as well as licenses its intellectual property to a third party for the operations of the Tokyo Disney Resort in Japan. The company's Studio Entertainment segment produces and distributes motion pictures under the Walt Disney Pictures, Twentieth Century Studios, Marvel, Lucasfilm, Pixar, Searchlight Pictures, and Blue Sky Studios banners; develops, produces, and licenses live entertainment events; produces and distributes music; and provides post-production services through Industrial Light & Magic and Skywalker Sound. Its Direct-To-Consumer & International segment operates international television networks and channels comprising Disney, ESPN, Fox, National Geographic, and Star; direct-to-consumer videos streaming services consisting of Disney+/Disney+Hotstar, ESPN+, and Hulu; and operates branded apps and Websites, such as Disney Movie Club and Disney Digital Network, as well as provides streaming technology support services. The company was founded in 1923 and is based in Burbank, California.\""
      ]
     },
     "execution_count": 102,
     "metadata": {},
     "output_type": "execute_result"
    }
   ],
   "source": [
    "dis=yf.Ticker(\"DIS\")\n",
    "dis.info['longBusinessSummary']"
   ]
  },
  {
   "cell_type": "code",
   "execution_count": 172,
   "metadata": {},
   "outputs": [
    {
     "name": "stdout",
     "output_type": "stream",
     "text": [
      "['DIS', 'Entertainment', '500 South Buena Vista Street', 'Burbank', '91521', 'http://www.thewaltdisneycompany.com']\n"
     ]
    }
   ],
   "source": [
    "print([dis.info['symbol'],\n",
    "      dis.info['industry'],\n",
    "      dis.info['address1'],\n",
    "      dis.info['city'],\n",
    "      dis.info['zip'],\n",
    "     dis.info['website']])"
   ]
  },
  {
   "cell_type": "code",
   "execution_count": 166,
   "metadata": {},
   "outputs": [
    {
     "name": "stdout",
     "output_type": "stream",
     "text": [
      "['CMCSA', 'Entertainment', 'One Comcast Center', 'Philadelphia', '19103-2838', 'http://corporate.comcast.com']\n"
     ]
    }
   ],
   "source": [
    "COMCAST=yf.Ticker(\"CMCSA\")\n",
    "print([COMCAST.info['symbol'],\n",
    "      COMCAST.info['industry'],\n",
    "      COMCAST.info['address1'],\n",
    "      COMCAST.info['city'],\n",
    "      COMCAST.info['zip'],\n",
    "     COMCAST.info['website']])"
   ]
  },
  {
   "cell_type": "code",
   "execution_count": null,
   "metadata": {},
   "outputs": [],
   "source": []
  }
 ],
 "metadata": {
  "kernelspec": {
   "display_name": "Python 3",
   "language": "python",
   "name": "python3"
  },
  "language_info": {
   "codemirror_mode": {
    "name": "ipython",
    "version": 3
   },
   "file_extension": ".py",
   "mimetype": "text/x-python",
   "name": "python",
   "nbconvert_exporter": "python",
   "pygments_lexer": "ipython3",
   "version": "3.8.5"
  }
 },
 "nbformat": 4,
 "nbformat_minor": 4
}
