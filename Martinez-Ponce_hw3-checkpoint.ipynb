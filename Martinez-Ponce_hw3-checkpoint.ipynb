{
 "cells": [
  {
   "cell_type": "code",
   "execution_count": null,
   "metadata": {},
   "outputs": [],
   "source": [
    "for Celsius in Fahrenheit=(9/5)*Celsius+32\n",
    "    return 80\n",
    "print Celsius"
   ]
  },
  {
   "cell_type": "code",
   "execution_count": null,
   "metadata": {},
   "outputs": [],
   "source": [
    "Exam1=[61.2,57.6,68.4,76.5,53.4,31.2,32.2,75.9,44.6,69.4,67.5,61.9,68.3,46.1,47.2,72.\n",
    "7,67.6,48.7,70.8,93.6,71.4,52.1,66.8,63.9,49.1,69.2,73.8,79.7,58.4,76.9,63.3,34\n",
    ".4,65.8,57.6,61.5]\n",
    "print (Exam1)"
   ]
  },
  {
   "cell_type": "code",
   "execution_count": null,
   "metadata": {},
   "outputs": [],
   "source": []
  }
 ],
 "metadata": {
  "kernelspec": {
   "display_name": "Python 3",
   "language": "python",
   "name": "python3"
  },
  "language_info": {
   "codemirror_mode": {
    "name": "ipython",
    "version": 3
   },
   "file_extension": ".py",
   "mimetype": "text/x-python",
   "name": "python",
   "nbconvert_exporter": "python",
   "pygments_lexer": "ipython3",
   "version": "3.8.5"
  }
 },
 "nbformat": 4,
 "nbformat_minor": 4
}
