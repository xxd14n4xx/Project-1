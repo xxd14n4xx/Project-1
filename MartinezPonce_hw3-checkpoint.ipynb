{
 "cells": [
  {
   "cell_type": "code",
   "execution_count": 433,
   "metadata": {},
   "outputs": [
    {
     "name": "stdout",
     "output_type": "stream",
     "text": [
      "32.0\n",
      "50.0\n",
      "212.0\n"
     ]
    }
   ],
   "source": [
    "def Fahrenheit(Temp_in_Celsius):\n",
    "    print(9/5*Temp_in_Celsius+32)\n",
    "Temp1=0\n",
    "Temp2=10\n",
    "Temp3=100\n",
    "Fahrenheit(Temp1)\n",
    "Fahrenheit(Temp2)\n",
    "Fahrenheit(Temp3)"
   ]
  },
  {
   "cell_type": "code",
   "execution_count": 157,
   "metadata": {},
   "outputs": [
    {
     "name": "stdout",
     "output_type": "stream",
     "text": [
      "The max is 93.6\n",
      "The min is 31.2\n"
     ]
    }
   ],
   "source": [
    "Exam1=[61.2,57.6,68.4,76.5,53.4,31.2,32.2,75.9,44.6,69.4,67.5,61.9,68.3,46.1,47.2,72.7,67.6,48.7,70.8,93.6,71.4,52.1,66.8,63.9,49.1,69.2,73.8,79.7,58.4,76.9,63.3,34.4,65.8,57.6,61.5]\n",
    "maximum = max(Exam1)\n",
    "minimum= min(Exam1)\n",
    "print(\"The max is\", maximum)\n",
    "print(\"The min is\", minimum)"
   ]
  },
  {
   "cell_type": "code",
   "execution_count": 435,
   "metadata": {},
   "outputs": [
    {
     "data": {
      "text/plain": [
       "61.67714285714286"
      ]
     },
     "execution_count": 435,
     "metadata": {},
     "output_type": "execute_result"
    }
   ],
   "source": [
    "AverageExam1= sum(Exam1)/len(Exam1)\n",
    "AverageExam1"
   ]
  },
  {
   "cell_type": "code",
   "execution_count": 299,
   "metadata": {},
   "outputs": [
    {
     "data": {
      "text/plain": [
       "array([ 69.52285714,  65.92285714,  76.72285714,  84.82285714,\n",
       "        61.72285714,  39.52285714,  40.52285714,  84.22285714,\n",
       "        52.92285714,  77.72285714,  75.82285714,  70.22285714,\n",
       "        76.62285714,  54.42285714,  55.52285714,  81.02285714,\n",
       "        75.92285714,  57.02285714,  79.12285714, 101.92285714,\n",
       "        79.72285714,  60.42285714,  75.12285714,  72.22285714,\n",
       "        57.42285714,  77.52285714,  82.12285714,  88.02285714,\n",
       "        66.72285714,  85.22285714,  71.62285714,  42.72285714,\n",
       "        74.12285714,  65.92285714,  69.82285714])"
      ]
     },
     "execution_count": 299,
     "metadata": {},
     "output_type": "execute_result"
    }
   ],
   "source": [
    "import numpy as np\n",
    "Exam1=np.array([61.2,57.6,68.4,76.5,53.4,31.2,32.2,75.9,44.6,69.4,67.5,61.9,68.3,46.1,47.2,72.7,67.6,48.7,70.8,93.6,71.4,52.1,66.8,63.9,49.1,69.2,73.8,79.7,58.4,76.9,63.3,34.4,65.8,57.6,61.5])\n",
    "Curve=(70-AverageExam1)+Exam1\n",
    "Curve"
   ]
  },
  {
   "cell_type": "code",
   "execution_count": 302,
   "metadata": {},
   "outputs": [
    {
     "data": {
      "text/plain": [
       "array([ 69.52285714,  65.92285714,  76.72285714,  84.82285714,\n",
       "        61.72285714,  39.52285714,  40.52285714,  84.22285714,\n",
       "        52.92285714,  77.72285714,  75.82285714,  70.22285714,\n",
       "        76.62285714,  54.42285714,  55.52285714,  81.02285714,\n",
       "        75.92285714,  57.02285714,  79.12285714, 100.        ,\n",
       "        79.72285714,  60.42285714,  75.12285714,  72.22285714,\n",
       "        57.42285714,  77.52285714,  82.12285714,  88.02285714,\n",
       "        66.72285714,  85.22285714,  71.62285714,  42.72285714,\n",
       "        74.12285714,  65.92285714,  69.82285714])"
      ]
     },
     "execution_count": 302,
     "metadata": {},
     "output_type": "execute_result"
    }
   ],
   "source": [
    "np.clip(Curve, 0,100.00)"
   ]
  },
  {
   "cell_type": "code",
   "execution_count": 304,
   "metadata": {},
   "outputs": [],
   "source": [
    "import pandas as pd\n",
    "athlete=pd.read_csv('https://raw.githubusercontent.com/akhadianharnowo/files/main/athlete.csv')"
   ]
  },
  {
   "cell_type": "code",
   "execution_count": 319,
   "metadata": {},
   "outputs": [
    {
     "data": {
      "text/html": [
       "<div>\n",
       "<style scoped>\n",
       "    .dataframe tbody tr th:only-of-type {\n",
       "        vertical-align: middle;\n",
       "    }\n",
       "\n",
       "    .dataframe tbody tr th {\n",
       "        vertical-align: top;\n",
       "    }\n",
       "\n",
       "    .dataframe thead th {\n",
       "        text-align: right;\n",
       "    }\n",
       "</style>\n",
       "<table border=\"1\" class=\"dataframe\">\n",
       "  <thead>\n",
       "    <tr style=\"text-align: right;\">\n",
       "      <th></th>\n",
       "      <th>Rank</th>\n",
       "      <th>Name</th>\n",
       "      <th>Sport</th>\n",
       "      <th>Total Pay</th>\n",
       "      <th>Salary/Winnings</th>\n",
       "      <th>Endorsements</th>\n",
       "      <th>Nation</th>\n",
       "      <th>Gender</th>\n",
       "      <th>Year of birth</th>\n",
       "      <th>Birth Date</th>\n",
       "      <th>Place of Birth</th>\n",
       "      <th>Height (cm)</th>\n",
       "      <th>Wikipedia Page</th>\n",
       "      <th>dbpedia Page</th>\n",
       "      <th>Image</th>\n",
       "      <th>Description</th>\n",
       "    </tr>\n",
       "  </thead>\n",
       "  <tbody>\n",
       "    <tr>\n",
       "      <th>1</th>\n",
       "      <td>95</td>\n",
       "      <td>Adam Scott</td>\n",
       "      <td>Golf</td>\n",
       "      <td>$17,700,000</td>\n",
       "      <td>$8,700,000</td>\n",
       "      <td>$9,000,000</td>\n",
       "      <td>Australia</td>\n",
       "      <td>Male</td>\n",
       "      <td>1980</td>\n",
       "      <td>16/07/1980</td>\n",
       "      <td>Adelaide, Australia</td>\n",
       "      <td>183</td>\n",
       "      <td>https://en.wikipedia.org/wiki/Adam_Scott_(golfer)</td>\n",
       "      <td>dbpedia.org/resource/Adam_Scott_(golfer)</td>\n",
       "      <td>http://commons.wikimedia.org/wiki/Special:File...</td>\n",
       "      <td>Adam Derek Scott (born 16 July 1980) is an Aus...</td>\n",
       "    </tr>\n",
       "    <tr>\n",
       "      <th>2</th>\n",
       "      <td>60</td>\n",
       "      <td>Adrian Gonzalez</td>\n",
       "      <td>Baseball</td>\n",
       "      <td>$21,500,000</td>\n",
       "      <td>$21,100,000</td>\n",
       "      <td>$400,000</td>\n",
       "      <td>United States</td>\n",
       "      <td>Male</td>\n",
       "      <td>1982</td>\n",
       "      <td>8/05/1982</td>\n",
       "      <td>San Diego, California, United States</td>\n",
       "      <td>188</td>\n",
       "      <td>http://en.wikipedia.org/wiki/Adrian_Gonzalez</td>\n",
       "      <td>dbpedia.org/resource/Adrian_Gonzalez</td>\n",
       "      <td>http://commons.wikimedia.org/wiki/Special:File...</td>\n",
       "      <td>Adrian Gonzalez (born May 8, 1982), also known...</td>\n",
       "    </tr>\n",
       "    <tr>\n",
       "      <th>3</th>\n",
       "      <td>48</td>\n",
       "      <td>Alex Rodriguez</td>\n",
       "      <td>Baseball</td>\n",
       "      <td>$22,900,000</td>\n",
       "      <td>$22,600,000</td>\n",
       "      <td>$300,000</td>\n",
       "      <td>United States</td>\n",
       "      <td>Male</td>\n",
       "      <td>1975</td>\n",
       "      <td>27/07/1975</td>\n",
       "      <td>New York City</td>\n",
       "      <td>190</td>\n",
       "      <td>http://en.wikipedia.org/wiki/Alex_Rodriguez</td>\n",
       "      <td>dbpedia.org/resource/Alex_Rodriguez</td>\n",
       "      <td>http://commons.wikimedia.org/wiki/Special:File...</td>\n",
       "      <td>Alexander Emmanuel \" Alex \" Rodriguez (born Ju...</td>\n",
       "    </tr>\n",
       "    <tr>\n",
       "      <th>4</th>\n",
       "      <td>93</td>\n",
       "      <td>Alfonso Soriano</td>\n",
       "      <td>Baseball</td>\n",
       "      <td>$18,050,000</td>\n",
       "      <td>$18,000,000</td>\n",
       "      <td>$50,000</td>\n",
       "      <td>Dominican Republic</td>\n",
       "      <td>Male</td>\n",
       "      <td>1976</td>\n",
       "      <td>7/01/1976</td>\n",
       "      <td>San Pedro de Macorís, Dominican Republic</td>\n",
       "      <td>185</td>\n",
       "      <td>http://en.wikipedia.org/wiki/Alfonso_Soriano</td>\n",
       "      <td>dbpedia.org/resource/Alfonso_Soriano</td>\n",
       "      <td>http://commons.wikimedia.org/wiki/Special:File...</td>\n",
       "      <td>Alfonso Guilleard Soriano (born January 7, 197...</td>\n",
       "    </tr>\n",
       "    <tr>\n",
       "      <th>5</th>\n",
       "      <td>27</td>\n",
       "      <td>Amar'e Stoudemire</td>\n",
       "      <td>Basketball</td>\n",
       "      <td>$26,700,000</td>\n",
       "      <td>$21,700,000</td>\n",
       "      <td>$5,000,000</td>\n",
       "      <td>United States</td>\n",
       "      <td>Male</td>\n",
       "      <td>1982</td>\n",
       "      <td>16/11/1982</td>\n",
       "      <td>Lake Wales, Florida</td>\n",
       "      <td>211</td>\n",
       "      <td>http://en.wikipedia.org/wiki/Amar%27e_Stoudemire</td>\n",
       "      <td>dbpedia.org/resource/Amar%27e_Stoudemire</td>\n",
       "      <td>http://commons.wikimedia.org/wiki/Special:File...</td>\n",
       "      <td>Amar'e Carsares Stoudemire ( /əˈmɑreɪˈstɒdəmaɪ...</td>\n",
       "    </tr>\n",
       "    <tr>\n",
       "      <th>6</th>\n",
       "      <td>75</td>\n",
       "      <td>Barry Zito</td>\n",
       "      <td>Baseball</td>\n",
       "      <td>$20,400,000</td>\n",
       "      <td>$20,300,000</td>\n",
       "      <td>$100,000</td>\n",
       "      <td>United States</td>\n",
       "      <td>Male</td>\n",
       "      <td>1978</td>\n",
       "      <td>13/05/1978</td>\n",
       "      <td>Las Vegas Valley, Nevada, United States</td>\n",
       "      <td>188</td>\n",
       "      <td>http://en.wikipedia.org/wiki/Barry_Zito</td>\n",
       "      <td>dbpedia.org/resource/Barry_Zito</td>\n",
       "      <td>http://commons.wikimedia.org/wiki/Special:File...</td>\n",
       "      <td>Barry William Zito (born May 13, 1978) is an A...</td>\n",
       "    </tr>\n",
       "    <tr>\n",
       "      <th>7</th>\n",
       "      <td>47</td>\n",
       "      <td>Blake Griffin</td>\n",
       "      <td>Basketball</td>\n",
       "      <td>$23,000,000</td>\n",
       "      <td>$16,500,000</td>\n",
       "      <td>$6,500,000</td>\n",
       "      <td>United States</td>\n",
       "      <td>Male</td>\n",
       "      <td>1989</td>\n",
       "      <td>16/03/1989</td>\n",
       "      <td>Oklahoma City, Oklahoma, United States</td>\n",
       "      <td>208</td>\n",
       "      <td>http://en.wikipedia.org/wiki/Blake_Griffin</td>\n",
       "      <td>dbpedia.org/resource/Blake_Griffin</td>\n",
       "      <td>http://commons.wikimedia.org/wiki/Special:File...</td>\n",
       "      <td>Blake Austin Griffin (born March 16, 1989) is ...</td>\n",
       "    </tr>\n",
       "    <tr>\n",
       "      <th>8</th>\n",
       "      <td>91</td>\n",
       "      <td>Branden Albert</td>\n",
       "      <td>Football</td>\n",
       "      <td>$18,435,000</td>\n",
       "      <td>$18,400,000</td>\n",
       "      <td>$35,000</td>\n",
       "      <td>United States</td>\n",
       "      <td>Male</td>\n",
       "      <td>1984</td>\n",
       "      <td>4/11/1984</td>\n",
       "      <td>Rochester, New York, United States</td>\n",
       "      <td>196</td>\n",
       "      <td>http://en.wikipedia.org/wiki/Branden_Albert</td>\n",
       "      <td>dbpedia.org/resource/Branden_Albert</td>\n",
       "      <td>http://en.wikipedia.org/wiki/Special:FilePath/...</td>\n",
       "      <td>Branden Albert (born November 4, 1984) is an A...</td>\n",
       "    </tr>\n",
       "    <tr>\n",
       "      <th>9</th>\n",
       "      <td>97</td>\n",
       "      <td>Brandon Marshall</td>\n",
       "      <td>Football</td>\n",
       "      <td>$17,500,000</td>\n",
       "      <td>$16,800,000</td>\n",
       "      <td>$700,000</td>\n",
       "      <td>United States</td>\n",
       "      <td>Male</td>\n",
       "      <td>1984</td>\n",
       "      <td>23/03/1984</td>\n",
       "      <td>Pittsburgh</td>\n",
       "      <td>193</td>\n",
       "      <td>http://en.wikipedia.org/wiki/Brandon_Marshall</td>\n",
       "      <td>dbpedia.org/resource/Brandon_Marshall</td>\n",
       "      <td>http://commons.wikimedia.org/wiki/Special:File...</td>\n",
       "      <td>Brandon Marshall (born March 23, 1984) is an A...</td>\n",
       "    </tr>\n",
       "    <tr>\n",
       "      <th>10</th>\n",
       "      <td>74</td>\n",
       "      <td>Carl Crawford</td>\n",
       "      <td>Baseball</td>\n",
       "      <td>$20,500,000</td>\n",
       "      <td>$20,200,000</td>\n",
       "      <td>$300,000</td>\n",
       "      <td>United States</td>\n",
       "      <td>Male</td>\n",
       "      <td>1981</td>\n",
       "      <td>5/08/1981</td>\n",
       "      <td>Houston, United States</td>\n",
       "      <td>188</td>\n",
       "      <td>http://en.wikipedia.org/wiki/Carl_Crawford</td>\n",
       "      <td>dbpedia.org/resource/Carl_Crawford</td>\n",
       "      <td>http://commons.wikimedia.org/wiki/Special:File...</td>\n",
       "      <td>Carl Demonte Crawford (born August 5, 1981), n...</td>\n",
       "    </tr>\n",
       "  </tbody>\n",
       "</table>\n",
       "</div>"
      ],
      "text/plain": [
       "    Rank               Name       Sport    Total Pay Salary/Winnings  \\\n",
       "1     95         Adam Scott        Golf  $17,700,000      $8,700,000   \n",
       "2     60    Adrian Gonzalez    Baseball  $21,500,000     $21,100,000   \n",
       "3     48     Alex Rodriguez    Baseball  $22,900,000     $22,600,000   \n",
       "4     93    Alfonso Soriano    Baseball  $18,050,000     $18,000,000   \n",
       "5     27  Amar'e Stoudemire  Basketball  $26,700,000     $21,700,000   \n",
       "6     75         Barry Zito    Baseball  $20,400,000     $20,300,000   \n",
       "7     47      Blake Griffin  Basketball  $23,000,000     $16,500,000   \n",
       "8     91     Branden Albert    Football  $18,435,000     $18,400,000   \n",
       "9     97   Brandon Marshall    Football  $17,500,000     $16,800,000   \n",
       "10    74      Carl Crawford    Baseball  $20,500,000     $20,200,000   \n",
       "\n",
       "   Endorsements              Nation Gender  Year of birth  Birth Date  \\\n",
       "1    $9,000,000           Australia   Male           1980  16/07/1980   \n",
       "2      $400,000       United States   Male           1982   8/05/1982   \n",
       "3      $300,000       United States   Male           1975  27/07/1975   \n",
       "4       $50,000  Dominican Republic   Male           1976   7/01/1976   \n",
       "5    $5,000,000       United States   Male           1982  16/11/1982   \n",
       "6      $100,000       United States   Male           1978  13/05/1978   \n",
       "7    $6,500,000       United States   Male           1989  16/03/1989   \n",
       "8       $35,000       United States   Male           1984   4/11/1984   \n",
       "9      $700,000       United States   Male           1984  23/03/1984   \n",
       "10     $300,000       United States   Male           1981   5/08/1981   \n",
       "\n",
       "                              Place of Birth  Height (cm)  \\\n",
       "1                        Adelaide, Australia          183   \n",
       "2       San Diego, California, United States          188   \n",
       "3                              New York City          190   \n",
       "4   San Pedro de Macorís, Dominican Republic          185   \n",
       "5                        Lake Wales, Florida          211   \n",
       "6    Las Vegas Valley, Nevada, United States          188   \n",
       "7     Oklahoma City, Oklahoma, United States          208   \n",
       "8         Rochester, New York, United States          196   \n",
       "9                                 Pittsburgh          193   \n",
       "10                    Houston, United States          188   \n",
       "\n",
       "                                       Wikipedia Page  \\\n",
       "1   https://en.wikipedia.org/wiki/Adam_Scott_(golfer)   \n",
       "2        http://en.wikipedia.org/wiki/Adrian_Gonzalez   \n",
       "3         http://en.wikipedia.org/wiki/Alex_Rodriguez   \n",
       "4        http://en.wikipedia.org/wiki/Alfonso_Soriano   \n",
       "5    http://en.wikipedia.org/wiki/Amar%27e_Stoudemire   \n",
       "6             http://en.wikipedia.org/wiki/Barry_Zito   \n",
       "7          http://en.wikipedia.org/wiki/Blake_Griffin   \n",
       "8         http://en.wikipedia.org/wiki/Branden_Albert   \n",
       "9       http://en.wikipedia.org/wiki/Brandon_Marshall   \n",
       "10         http://en.wikipedia.org/wiki/Carl_Crawford   \n",
       "\n",
       "                                dbpedia Page  \\\n",
       "1   dbpedia.org/resource/Adam_Scott_(golfer)   \n",
       "2       dbpedia.org/resource/Adrian_Gonzalez   \n",
       "3        dbpedia.org/resource/Alex_Rodriguez   \n",
       "4       dbpedia.org/resource/Alfonso_Soriano   \n",
       "5   dbpedia.org/resource/Amar%27e_Stoudemire   \n",
       "6            dbpedia.org/resource/Barry_Zito   \n",
       "7         dbpedia.org/resource/Blake_Griffin   \n",
       "8        dbpedia.org/resource/Branden_Albert   \n",
       "9      dbpedia.org/resource/Brandon_Marshall   \n",
       "10        dbpedia.org/resource/Carl_Crawford   \n",
       "\n",
       "                                                Image  \\\n",
       "1   http://commons.wikimedia.org/wiki/Special:File...   \n",
       "2   http://commons.wikimedia.org/wiki/Special:File...   \n",
       "3   http://commons.wikimedia.org/wiki/Special:File...   \n",
       "4   http://commons.wikimedia.org/wiki/Special:File...   \n",
       "5   http://commons.wikimedia.org/wiki/Special:File...   \n",
       "6   http://commons.wikimedia.org/wiki/Special:File...   \n",
       "7   http://commons.wikimedia.org/wiki/Special:File...   \n",
       "8   http://en.wikipedia.org/wiki/Special:FilePath/...   \n",
       "9   http://commons.wikimedia.org/wiki/Special:File...   \n",
       "10  http://commons.wikimedia.org/wiki/Special:File...   \n",
       "\n",
       "                                          Description  \n",
       "1   Adam Derek Scott (born 16 July 1980) is an Aus...  \n",
       "2   Adrian Gonzalez (born May 8, 1982), also known...  \n",
       "3   Alexander Emmanuel \" Alex \" Rodriguez (born Ju...  \n",
       "4   Alfonso Guilleard Soriano (born January 7, 197...  \n",
       "5   Amar'e Carsares Stoudemire ( /əˈmɑreɪˈstɒdəmaɪ...  \n",
       "6   Barry William Zito (born May 13, 1978) is an A...  \n",
       "7   Blake Austin Griffin (born March 16, 1989) is ...  \n",
       "8   Branden Albert (born November 4, 1984) is an A...  \n",
       "9   Brandon Marshall (born March 23, 1984) is an A...  \n",
       "10  Carl Demonte Crawford (born August 5, 1981), n...  "
      ]
     },
     "execution_count": 319,
     "metadata": {},
     "output_type": "execute_result"
    }
   ],
   "source": [
    "athlete.loc[1:10]\n",
    "#The data is about athletes. It shows information about what  sport they play and how much they earn and other personal information."
   ]
  },
  {
   "cell_type": "code",
   "execution_count": 321,
   "metadata": {},
   "outputs": [
    {
     "name": "stdout",
     "output_type": "stream",
     "text": [
      "<class 'pandas.core.frame.DataFrame'>\n",
      "RangeIndex: 100 entries, 0 to 99\n",
      "Data columns (total 16 columns):\n",
      " #   Column           Non-Null Count  Dtype \n",
      "---  ------           --------------  ----- \n",
      " 0   Rank             100 non-null    int64 \n",
      " 1   Name             100 non-null    object\n",
      " 2   Sport            100 non-null    object\n",
      " 3   Total Pay        100 non-null    object\n",
      " 4   Salary/Winnings  100 non-null    object\n",
      " 5   Endorsements     100 non-null    object\n",
      " 6   Nation           100 non-null    object\n",
      " 7   Gender           100 non-null    object\n",
      " 8   Year of birth    100 non-null    int64 \n",
      " 9   Birth Date       100 non-null    object\n",
      " 10  Place of Birth   100 non-null    object\n",
      " 11  Height (cm)      100 non-null    int64 \n",
      " 12  Wikipedia Page   100 non-null    object\n",
      " 13  dbpedia Page     100 non-null    object\n",
      " 14  Image            99 non-null     object\n",
      " 15  Description      100 non-null    object\n",
      "dtypes: int64(3), object(13)\n",
      "memory usage: 12.6+ KB\n"
     ]
    }
   ],
   "source": [
    "athlete.info()\n",
    "#I see that there is one missing value in Image"
   ]
  },
  {
   "cell_type": "code",
   "execution_count": 451,
   "metadata": {},
   "outputs": [
    {
     "data": {
      "text/plain": [
       "Name         Zlatan Ibrahimović\n",
       "Total Pay           $80,000,000\n",
       "dtype: object"
      ]
     },
     "execution_count": 451,
     "metadata": {},
     "output_type": "execute_result"
    }
   ],
   "source": [
    "athlete[['Name', 'Total Pay']].max()\n",
    "#The highest pay is $80,000,000 for Zlatan"
   ]
  },
  {
   "cell_type": "code",
   "execution_count": 450,
   "metadata": {},
   "outputs": [
    {
     "data": {
      "text/plain": [
       "Name         Aaron Rodgers\n",
       "Total Pay     $105,000,000\n",
       "dtype: object"
      ]
     },
     "execution_count": 450,
     "metadata": {},
     "output_type": "execute_result"
    }
   ],
   "source": [
    "athlete[['Name', 'Total Pay']].min()"
   ]
  },
  {
   "cell_type": "code",
   "execution_count": 455,
   "metadata": {},
   "outputs": [
    {
     "data": {
      "text/plain": [
       "Series([], dtype: float64)"
      ]
     },
     "execution_count": 455,
     "metadata": {},
     "output_type": "execute_result"
    }
   ],
   "source": [
    "athlete[['Total Pay']].mean()"
   ]
  },
  {
   "cell_type": "code",
   "execution_count": 456,
   "metadata": {},
   "outputs": [
    {
     "data": {
      "text/plain": [
       "Name               Zlatan Ibrahimović\n",
       "Salary/Winnings            $8,700,000\n",
       "dtype: object"
      ]
     },
     "execution_count": 456,
     "metadata": {},
     "output_type": "execute_result"
    }
   ],
   "source": [
    "athlete[['Name', 'Salary/Winnings']].max()\n",
    "#The highest salary is for Zlatan with $8,700,000"
   ]
  },
  {
   "cell_type": "code",
   "execution_count": 457,
   "metadata": {},
   "outputs": [
    {
     "data": {
      "text/plain": [
       "Name               Aaron Rodgers\n",
       "Salary/Winnings      $10,000,000\n",
       "dtype: object"
      ]
     },
     "execution_count": 457,
     "metadata": {},
     "output_type": "execute_result"
    }
   ],
   "source": [
    "athlete[['Name', 'Salary/Winnings']].min()"
   ]
  },
  {
   "cell_type": "code",
   "execution_count": 458,
   "metadata": {},
   "outputs": [
    {
     "data": {
      "text/plain": [
       "Series([], dtype: float64)"
      ]
     },
     "execution_count": 458,
     "metadata": {},
     "output_type": "execute_result"
    }
   ],
   "source": [
    "athlete[['Name', 'Salary/Winnings']].mean()"
   ]
  },
  {
   "cell_type": "code",
   "execution_count": 462,
   "metadata": {},
   "outputs": [
    {
     "data": {
      "text/plain": [
       "Name            Zlatan Ibrahimović\n",
       "Endorsements            $9,000,000\n",
       "dtype: object"
      ]
     },
     "execution_count": 462,
     "metadata": {},
     "output_type": "execute_result"
    }
   ],
   "source": [
    "athlete[['Name','Endorsements']].max()\n",
    "#Zlatan has the highest endorsement"
   ]
  },
  {
   "cell_type": "code",
   "execution_count": 460,
   "metadata": {},
   "outputs": [
    {
     "data": {
      "text/plain": [
       "Name            Aaron Rodgers\n",
       "Endorsements               $0\n",
       "dtype: object"
      ]
     },
     "execution_count": 460,
     "metadata": {},
     "output_type": "execute_result"
    }
   ],
   "source": [
    "athlete[['Name','Endorsements']].min()"
   ]
  },
  {
   "cell_type": "code",
   "execution_count": 468,
   "metadata": {},
   "outputs": [
    {
     "data": {
      "text/plain": [
       "Series([], dtype: float64)"
      ]
     },
     "execution_count": 468,
     "metadata": {},
     "output_type": "execute_result"
    }
   ],
   "source": [
    "athlete[['Name','Endorsements']].mean()"
   ]
  },
  {
   "cell_type": "code",
   "execution_count": 471,
   "metadata": {},
   "outputs": [
    {
     "data": {
      "text/html": [
       "<div>\n",
       "<style scoped>\n",
       "    .dataframe tbody tr th:only-of-type {\n",
       "        vertical-align: middle;\n",
       "    }\n",
       "\n",
       "    .dataframe tbody tr th {\n",
       "        vertical-align: top;\n",
       "    }\n",
       "\n",
       "    .dataframe thead th {\n",
       "        text-align: right;\n",
       "    }\n",
       "</style>\n",
       "<table border=\"1\" class=\"dataframe\">\n",
       "  <thead>\n",
       "    <tr style=\"text-align: right;\">\n",
       "      <th></th>\n",
       "      <th>Rank</th>\n",
       "      <th>Year of birth</th>\n",
       "      <th>Height (cm)</th>\n",
       "    </tr>\n",
       "  </thead>\n",
       "  <tbody>\n",
       "    <tr>\n",
       "      <th>Rank</th>\n",
       "      <td>1.000000</td>\n",
       "      <td>-0.003020</td>\n",
       "      <td>0.056652</td>\n",
       "    </tr>\n",
       "    <tr>\n",
       "      <th>Year of birth</th>\n",
       "      <td>-0.003020</td>\n",
       "      <td>1.000000</td>\n",
       "      <td>0.062957</td>\n",
       "    </tr>\n",
       "    <tr>\n",
       "      <th>Height (cm)</th>\n",
       "      <td>0.056652</td>\n",
       "      <td>0.062957</td>\n",
       "      <td>1.000000</td>\n",
       "    </tr>\n",
       "  </tbody>\n",
       "</table>\n",
       "</div>"
      ],
      "text/plain": [
       "                   Rank  Year of birth  Height (cm)\n",
       "Rank           1.000000      -0.003020     0.056652\n",
       "Year of birth -0.003020       1.000000     0.062957\n",
       "Height (cm)    0.056652       0.062957     1.000000"
      ]
     },
     "execution_count": 471,
     "metadata": {},
     "output_type": "execute_result"
    }
   ],
   "source": [
    "athlete.corr()\n",
    "# I see that that year of birth and rank has the weakest correlation, while height and year of birth has the highest. It isnt strong though. "
   ]
  },
  {
   "cell_type": "code",
   "execution_count": null,
   "metadata": {},
   "outputs": [],
   "source": []
  },
  {
   "cell_type": "code",
   "execution_count": null,
   "metadata": {},
   "outputs": [],
   "source": []
  }
 ],
 "metadata": {
  "kernelspec": {
   "display_name": "Python 3",
   "language": "python",
   "name": "python3"
  },
  "language_info": {
   "codemirror_mode": {
    "name": "ipython",
    "version": 3
   },
   "file_extension": ".py",
   "mimetype": "text/x-python",
   "name": "python",
   "nbconvert_exporter": "python",
   "pygments_lexer": "ipython3",
   "version": "3.8.5"
  }
 },
 "nbformat": 4,
 "nbformat_minor": 4
}
