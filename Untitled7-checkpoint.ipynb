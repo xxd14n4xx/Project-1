{
 "cells": [
  {
   "cell_type": "code",
   "execution_count": 15,
   "metadata": {},
   "outputs": [],
   "source": [
    "from bs4 import BeautifulSoup\n",
    "import requests\n",
    "import re"
   ]
  },
  {
   "cell_type": "code",
   "execution_count": 7,
   "metadata": {},
   "outputs": [
    {
     "data": {
      "text/plain": [
       "[<h1>This is a Heading: Heading 1</h1>]"
      ]
     },
     "execution_count": 7,
     "metadata": {},
     "output_type": "execute_result"
    }
   ],
   "source": [
    "soup.find_all(\"h1\")"
   ]
  },
  {
   "cell_type": "code",
   "execution_count": 8,
   "metadata": {},
   "outputs": [
    {
     "data": {
      "text/plain": [
       "[<h2>Heading 2</h2>, <h2 class=\"w3-center\">Washburn University</h2>]"
      ]
     },
     "execution_count": 8,
     "metadata": {},
     "output_type": "execute_result"
    }
   ],
   "source": [
    "soup.find_all(\"h2\")"
   ]
  },
  {
   "cell_type": "code",
   "execution_count": 9,
   "metadata": {},
   "outputs": [
    {
     "data": {
      "text/plain": [
       "[<img src=\"assets/img/cat.jpg\" style=\"width:10%\"/>,\n",
       " <img src=\"assets/img/pandas.png\" style=\"width:10%\"/>,\n",
       " <img src=\"assets/img/matplotlib.png\" style=\"width:10%\"/>]"
      ]
     },
     "execution_count": 9,
     "metadata": {},
     "output_type": "execute_result"
    }
   ],
   "source": [
    "soup.find_all(\"img\")"
   ]
  },
  {
   "cell_type": "code",
   "execution_count": 11,
   "metadata": {},
   "outputs": [
    {
     "data": {
      "text/plain": [
       "['Heading 6']"
      ]
     },
     "execution_count": 11,
     "metadata": {},
     "output_type": "execute_result"
    }
   ],
   "source": [
    "soup.find_all(string=\"Heading 6\")"
   ]
  },
  {
   "cell_type": "code",
   "execution_count": 14,
   "metadata": {},
   "outputs": [
    {
     "data": {
      "text/plain": [
       "<!DOCTYPE html>\n",
       "\n",
       "<html>\n",
       "<head>\n",
       "<title>Simple HTML Page</title>\n",
       "<link href=\"https://www.w3schools.com/w3css/4/w3.css\" rel=\"stylesheet\"/>\n",
       "<!-- Global site tag (gtag.js) - Google Analytics -->\n",
       "<script async=\"\" src=\"https://www.googletagmanager.com/gtag/js?id=G-385B2TXRMS\"></script>\n",
       "<script>\n",
       "          window.dataLayer = window.dataLayer || [];\n",
       "          function gtag(){dataLayer.push(arguments);}\n",
       "          gtag('js', new Date());\n",
       "\n",
       "          gtag('config', 'G-385B2TXRMS');\n",
       "        </script>\n",
       "</head>\n",
       "<body>\n",
       "<h1>This is a Heading: Heading 1</h1>\n",
       "<h2>Heading 2</h2>\n",
       "<h3>Heading 3</h3>\n",
       "<h4>Heading 4</h4>\n",
       "<h5 class=\"w3-green\">Heading 5</h5>\n",
       "<h6>Heading 6</h6>\n",
       "<p>This is a paragraph.</p>\n",
       "<p>Another paragraph. <br/>A new line in the same paragraph</p>\n",
       "<img src=\"assets/img/cat.jpg\" style=\"width:10%\"/>\n",
       "<img src=\"assets/img/pandas.png\" style=\"width:10%\"/>\n",
       "<img src=\"assets/img/matplotlib.png\" style=\"width:10%\"/>\n",
       "<h2 class=\"w3-center\">Washburn University</h2>\n",
       "<p>Washburn is a top-notch university in an urban setting where students are becoming their best selves.\n",
       "\n",
       "Nestled in the heart of Topeka - the capital city with about 127 thousand residents - Washburn offers students from small towns a big-city feel, while providing students from major metropolitan areas a more manageable environment.\n",
       "\n",
       "Washburn's beautiful campus - on 160 acres - is easy to navigate with state-of-the art facilities. Our Tech campus on Huntoon offers industry-standard programs leading to in-demand jobs. And with our low student/faculty ratio and small classes, you're going to get to know your professors. \n",
       "\n",
       "Internally, we're organized into five schools, the College of Arts &amp; Sciences, the School of Applied Studies, the Business School, the School of Nursing, the School of Law and the Washburn Institute of Technology (Washburn Tech.)\n",
       "\n",
       "And the academic environment is one hard to beat.</p>\n",
       "<p>Of course, life doesn't stop at the classroom door. That's why, in addition to a wide range of academic options, students are active in more than 100 campus organizations and clubs as well as 16 intercollegiate men's and women's sports. What's more, our students regularly participate in numerous volunteer, cultural and recreational opportunities throughout the Topeka community, including many right on our own campus. The Mulvane Art Gallery holds regular exhibits and events while the White Concert Hall and the Andrew J. and Georgia Neese Gray Theatre play host to numerous music and theatrical programs -- a number produced by our own students.</p>\n",
       "</body>\n",
       "<footer>\n",
       "<p><a href=\"pg1.html\"><b>GO BACK »</b></a></p>\n",
       "</footer>\n",
       "</html>"
      ]
     },
     "execution_count": 14,
     "metadata": {},
     "output_type": "execute_result"
    }
   ],
   "source": [
    "responseB=requests.get(\"https://genius.com/albums/Lady-gaga/Joanne\")\n",
    "b=response.text\n",
    "bsoup = BeautifulSoup(a, \"ht\")\n",
    "bsoup"
   ]
  },
  {
   "cell_type": "code",
   "execution_count": null,
   "metadata": {},
   "outputs": [],
   "source": []
  }
 ],
 "metadata": {
  "kernelspec": {
   "display_name": "Python 3",
   "language": "python",
   "name": "python3"
  },
  "language_info": {
   "codemirror_mode": {
    "name": "ipython",
    "version": 3
   },
   "file_extension": ".py",
   "mimetype": "text/x-python",
   "name": "python",
   "nbconvert_exporter": "python",
   "pygments_lexer": "ipython3",
   "version": "3.8.5"
  }
 },
 "nbformat": 4,
 "nbformat_minor": 4
}
